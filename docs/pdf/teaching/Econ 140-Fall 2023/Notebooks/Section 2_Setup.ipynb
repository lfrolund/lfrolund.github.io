{
 "cells": [
  {
   "cell_type": "markdown",
   "id": "8ff12b62",
   "metadata": {},
   "source": [
    "## Section 2: Let's code"
   ]
  },
  {
   "cell_type": "markdown",
   "id": "67303ccd",
   "metadata": {},
   "source": [
    "Today will just be a short introduction into running regressions with R.\n",
    "We first read in the sleepdata dataset from the wooldridge package.\n"
   ]
  },
  {
   "cell_type": "code",
   "execution_count": 1,
   "id": "ec85e04b",
   "metadata": {},
   "outputs": [
    {
     "name": "stderr",
     "output_type": "stream",
     "text": [
      "Installing package into ‘/opt/r’\n",
      "(as ‘lib’ is unspecified)\n",
      "\n"
     ]
    }
   ],
   "source": [
    "install.packages('wooldridge')\n",
    "data(sleep75, package = 'wooldridge')\n",
    "sleepdata <- sleep75"
   ]
  },
  {
   "cell_type": "markdown",
   "id": "ec2d2662",
   "metadata": {},
   "source": [
    "Let us have a look at the data:"
   ]
  },
  {
   "cell_type": "code",
   "execution_count": 2,
   "id": "39989521",
   "metadata": {},
   "outputs": [
    {
     "data": {
      "text/html": [
       "<style>\n",
       ".list-inline {list-style: none; margin:0; padding: 0}\n",
       ".list-inline>li {display: inline-block}\n",
       ".list-inline>li:not(:last-child)::after {content: \"\\00b7\"; padding: 0 .5ex}\n",
       "</style>\n",
       "<ol class=list-inline><li>'age'</li><li>'black'</li><li>'case'</li><li>'clerical'</li><li>'construc'</li><li>'educ'</li><li>'earns74'</li><li>'gdhlth'</li><li>'inlf'</li><li>'leis1'</li><li>'leis2'</li><li>'leis3'</li><li>'smsa'</li><li>'lhrwage'</li><li>'lothinc'</li><li>'male'</li><li>'marr'</li><li>'prot'</li><li>'rlxall'</li><li>'selfe'</li><li>'sleep'</li><li>'slpnaps'</li><li>'south'</li><li>'spsepay'</li><li>'spwrk75'</li><li>'totwrk'</li><li>'union'</li><li>'worknrm'</li><li>'workscnd'</li><li>'exper'</li><li>'yngkid'</li><li>'yrsmarr'</li><li>'hrwage'</li><li>'agesq'</li></ol>\n"
      ],
      "text/latex": [
       "\\begin{enumerate*}\n",
       "\\item 'age'\n",
       "\\item 'black'\n",
       "\\item 'case'\n",
       "\\item 'clerical'\n",
       "\\item 'construc'\n",
       "\\item 'educ'\n",
       "\\item 'earns74'\n",
       "\\item 'gdhlth'\n",
       "\\item 'inlf'\n",
       "\\item 'leis1'\n",
       "\\item 'leis2'\n",
       "\\item 'leis3'\n",
       "\\item 'smsa'\n",
       "\\item 'lhrwage'\n",
       "\\item 'lothinc'\n",
       "\\item 'male'\n",
       "\\item 'marr'\n",
       "\\item 'prot'\n",
       "\\item 'rlxall'\n",
       "\\item 'selfe'\n",
       "\\item 'sleep'\n",
       "\\item 'slpnaps'\n",
       "\\item 'south'\n",
       "\\item 'spsepay'\n",
       "\\item 'spwrk75'\n",
       "\\item 'totwrk'\n",
       "\\item 'union'\n",
       "\\item 'worknrm'\n",
       "\\item 'workscnd'\n",
       "\\item 'exper'\n",
       "\\item 'yngkid'\n",
       "\\item 'yrsmarr'\n",
       "\\item 'hrwage'\n",
       "\\item 'agesq'\n",
       "\\end{enumerate*}\n"
      ],
      "text/markdown": [
       "1. 'age'\n",
       "2. 'black'\n",
       "3. 'case'\n",
       "4. 'clerical'\n",
       "5. 'construc'\n",
       "6. 'educ'\n",
       "7. 'earns74'\n",
       "8. 'gdhlth'\n",
       "9. 'inlf'\n",
       "10. 'leis1'\n",
       "11. 'leis2'\n",
       "12. 'leis3'\n",
       "13. 'smsa'\n",
       "14. 'lhrwage'\n",
       "15. 'lothinc'\n",
       "16. 'male'\n",
       "17. 'marr'\n",
       "18. 'prot'\n",
       "19. 'rlxall'\n",
       "20. 'selfe'\n",
       "21. 'sleep'\n",
       "22. 'slpnaps'\n",
       "23. 'south'\n",
       "24. 'spsepay'\n",
       "25. 'spwrk75'\n",
       "26. 'totwrk'\n",
       "27. 'union'\n",
       "28. 'worknrm'\n",
       "29. 'workscnd'\n",
       "30. 'exper'\n",
       "31. 'yngkid'\n",
       "32. 'yrsmarr'\n",
       "33. 'hrwage'\n",
       "34. 'agesq'\n",
       "\n",
       "\n"
      ],
      "text/plain": [
       " [1] \"age\"      \"black\"    \"case\"     \"clerical\" \"construc\" \"educ\"    \n",
       " [7] \"earns74\"  \"gdhlth\"   \"inlf\"     \"leis1\"    \"leis2\"    \"leis3\"   \n",
       "[13] \"smsa\"     \"lhrwage\"  \"lothinc\"  \"male\"     \"marr\"     \"prot\"    \n",
       "[19] \"rlxall\"   \"selfe\"    \"sleep\"    \"slpnaps\"  \"south\"    \"spsepay\" \n",
       "[25] \"spwrk75\"  \"totwrk\"   \"union\"    \"worknrm\"  \"workscnd\" \"exper\"   \n",
       "[31] \"yngkid\"   \"yrsmarr\"  \"hrwage\"   \"agesq\"   "
      ]
     },
     "metadata": {},
     "output_type": "display_data"
    },
    {
     "data": {
      "text/html": [
       "<table class=\"dataframe\">\n",
       "<caption>A data.frame: 6 × 34</caption>\n",
       "<thead>\n",
       "\t<tr><th></th><th scope=col>age</th><th scope=col>black</th><th scope=col>case</th><th scope=col>clerical</th><th scope=col>construc</th><th scope=col>educ</th><th scope=col>earns74</th><th scope=col>gdhlth</th><th scope=col>inlf</th><th scope=col>leis1</th><th scope=col>⋯</th><th scope=col>spwrk75</th><th scope=col>totwrk</th><th scope=col>union</th><th scope=col>worknrm</th><th scope=col>workscnd</th><th scope=col>exper</th><th scope=col>yngkid</th><th scope=col>yrsmarr</th><th scope=col>hrwage</th><th scope=col>agesq</th></tr>\n",
       "\t<tr><th></th><th scope=col>&lt;int&gt;</th><th scope=col>&lt;int&gt;</th><th scope=col>&lt;int&gt;</th><th scope=col>&lt;dbl&gt;</th><th scope=col>&lt;dbl&gt;</th><th scope=col>&lt;int&gt;</th><th scope=col>&lt;dbl&gt;</th><th scope=col>&lt;int&gt;</th><th scope=col>&lt;int&gt;</th><th scope=col>&lt;int&gt;</th><th scope=col>⋯</th><th scope=col>&lt;int&gt;</th><th scope=col>&lt;int&gt;</th><th scope=col>&lt;int&gt;</th><th scope=col>&lt;int&gt;</th><th scope=col>&lt;int&gt;</th><th scope=col>&lt;int&gt;</th><th scope=col>&lt;int&gt;</th><th scope=col>&lt;int&gt;</th><th scope=col>&lt;dbl&gt;</th><th scope=col>&lt;int&gt;</th></tr>\n",
       "</thead>\n",
       "<tbody>\n",
       "\t<tr><th scope=row>1</th><td>32</td><td>0</td><td>1</td><td>0</td><td>0</td><td>12</td><td>    0</td><td>0</td><td>1</td><td>3529</td><td>⋯</td><td>0</td><td>3438</td><td>0</td><td>3438</td><td>   0</td><td>14</td><td>0</td><td>13</td><td> 7.070004</td><td>1024</td></tr>\n",
       "\t<tr><th scope=row>2</th><td>31</td><td>0</td><td>2</td><td>0</td><td>0</td><td>14</td><td> 9500</td><td>1</td><td>1</td><td>2140</td><td>⋯</td><td>0</td><td>5020</td><td>0</td><td>5020</td><td>   0</td><td>11</td><td>0</td><td> 0</td><td> 1.429999</td><td> 961</td></tr>\n",
       "\t<tr><th scope=row>3</th><td>44</td><td>0</td><td>3</td><td>0</td><td>0</td><td>17</td><td>42500</td><td>1</td><td>1</td><td>4595</td><td>⋯</td><td>1</td><td>2815</td><td>0</td><td>2815</td><td>   0</td><td>21</td><td>0</td><td> 0</td><td>20.529997</td><td>1936</td></tr>\n",
       "\t<tr><th scope=row>4</th><td>30</td><td>0</td><td>4</td><td>0</td><td>0</td><td>12</td><td>42500</td><td>1</td><td>1</td><td>3211</td><td>⋯</td><td>1</td><td>3786</td><td>0</td><td>3786</td><td>   0</td><td>12</td><td>0</td><td>12</td><td> 9.619998</td><td> 900</td></tr>\n",
       "\t<tr><th scope=row>5</th><td>64</td><td>0</td><td>5</td><td>0</td><td>0</td><td>14</td><td> 2500</td><td>1</td><td>1</td><td>4052</td><td>⋯</td><td>1</td><td>2580</td><td>0</td><td>2580</td><td>   0</td><td>44</td><td>0</td><td>33</td><td> 2.750000</td><td>4096</td></tr>\n",
       "\t<tr><th scope=row>6</th><td>41</td><td>0</td><td>6</td><td>0</td><td>0</td><td>12</td><td>    0</td><td>1</td><td>1</td><td>4812</td><td>⋯</td><td>0</td><td>1205</td><td>0</td><td>   0</td><td>1205</td><td>23</td><td>0</td><td>23</td><td>19.249998</td><td>1681</td></tr>\n",
       "</tbody>\n",
       "</table>\n"
      ],
      "text/latex": [
       "A data.frame: 6 × 34\n",
       "\\begin{tabular}{r|lllllllllllllllllllll}\n",
       "  & age & black & case & clerical & construc & educ & earns74 & gdhlth & inlf & leis1 & ⋯ & spwrk75 & totwrk & union & worknrm & workscnd & exper & yngkid & yrsmarr & hrwage & agesq\\\\\n",
       "  & <int> & <int> & <int> & <dbl> & <dbl> & <int> & <dbl> & <int> & <int> & <int> & ⋯ & <int> & <int> & <int> & <int> & <int> & <int> & <int> & <int> & <dbl> & <int>\\\\\n",
       "\\hline\n",
       "\t1 & 32 & 0 & 1 & 0 & 0 & 12 &     0 & 0 & 1 & 3529 & ⋯ & 0 & 3438 & 0 & 3438 &    0 & 14 & 0 & 13 &  7.070004 & 1024\\\\\n",
       "\t2 & 31 & 0 & 2 & 0 & 0 & 14 &  9500 & 1 & 1 & 2140 & ⋯ & 0 & 5020 & 0 & 5020 &    0 & 11 & 0 &  0 &  1.429999 &  961\\\\\n",
       "\t3 & 44 & 0 & 3 & 0 & 0 & 17 & 42500 & 1 & 1 & 4595 & ⋯ & 1 & 2815 & 0 & 2815 &    0 & 21 & 0 &  0 & 20.529997 & 1936\\\\\n",
       "\t4 & 30 & 0 & 4 & 0 & 0 & 12 & 42500 & 1 & 1 & 3211 & ⋯ & 1 & 3786 & 0 & 3786 &    0 & 12 & 0 & 12 &  9.619998 &  900\\\\\n",
       "\t5 & 64 & 0 & 5 & 0 & 0 & 14 &  2500 & 1 & 1 & 4052 & ⋯ & 1 & 2580 & 0 & 2580 &    0 & 44 & 0 & 33 &  2.750000 & 4096\\\\\n",
       "\t6 & 41 & 0 & 6 & 0 & 0 & 12 &     0 & 1 & 1 & 4812 & ⋯ & 0 & 1205 & 0 &    0 & 1205 & 23 & 0 & 23 & 19.249998 & 1681\\\\\n",
       "\\end{tabular}\n"
      ],
      "text/markdown": [
       "\n",
       "A data.frame: 6 × 34\n",
       "\n",
       "| <!--/--> | age &lt;int&gt; | black &lt;int&gt; | case &lt;int&gt; | clerical &lt;dbl&gt; | construc &lt;dbl&gt; | educ &lt;int&gt; | earns74 &lt;dbl&gt; | gdhlth &lt;int&gt; | inlf &lt;int&gt; | leis1 &lt;int&gt; | ⋯ ⋯ | spwrk75 &lt;int&gt; | totwrk &lt;int&gt; | union &lt;int&gt; | worknrm &lt;int&gt; | workscnd &lt;int&gt; | exper &lt;int&gt; | yngkid &lt;int&gt; | yrsmarr &lt;int&gt; | hrwage &lt;dbl&gt; | agesq &lt;int&gt; |\n",
       "|---|---|---|---|---|---|---|---|---|---|---|---|---|---|---|---|---|---|---|---|---|---|\n",
       "| 1 | 32 | 0 | 1 | 0 | 0 | 12 |     0 | 0 | 1 | 3529 | ⋯ | 0 | 3438 | 0 | 3438 |    0 | 14 | 0 | 13 |  7.070004 | 1024 |\n",
       "| 2 | 31 | 0 | 2 | 0 | 0 | 14 |  9500 | 1 | 1 | 2140 | ⋯ | 0 | 5020 | 0 | 5020 |    0 | 11 | 0 |  0 |  1.429999 |  961 |\n",
       "| 3 | 44 | 0 | 3 | 0 | 0 | 17 | 42500 | 1 | 1 | 4595 | ⋯ | 1 | 2815 | 0 | 2815 |    0 | 21 | 0 |  0 | 20.529997 | 1936 |\n",
       "| 4 | 30 | 0 | 4 | 0 | 0 | 12 | 42500 | 1 | 1 | 3211 | ⋯ | 1 | 3786 | 0 | 3786 |    0 | 12 | 0 | 12 |  9.619998 |  900 |\n",
       "| 5 | 64 | 0 | 5 | 0 | 0 | 14 |  2500 | 1 | 1 | 4052 | ⋯ | 1 | 2580 | 0 | 2580 |    0 | 44 | 0 | 33 |  2.750000 | 4096 |\n",
       "| 6 | 41 | 0 | 6 | 0 | 0 | 12 |     0 | 1 | 1 | 4812 | ⋯ | 0 | 1205 | 0 |    0 | 1205 | 23 | 0 | 23 | 19.249998 | 1681 |\n",
       "\n"
      ],
      "text/plain": [
       "  age black case clerical construc educ earns74 gdhlth inlf leis1 ⋯ spwrk75\n",
       "1 32  0     1    0        0        12       0   0      1    3529  ⋯ 0      \n",
       "2 31  0     2    0        0        14    9500   1      1    2140  ⋯ 0      \n",
       "3 44  0     3    0        0        17   42500   1      1    4595  ⋯ 1      \n",
       "4 30  0     4    0        0        12   42500   1      1    3211  ⋯ 1      \n",
       "5 64  0     5    0        0        14    2500   1      1    4052  ⋯ 1      \n",
       "6 41  0     6    0        0        12       0   1      1    4812  ⋯ 0      \n",
       "  totwrk union worknrm workscnd exper yngkid yrsmarr hrwage    agesq\n",
       "1 3438   0     3438       0     14    0      13       7.070004 1024 \n",
       "2 5020   0     5020       0     11    0       0       1.429999  961 \n",
       "3 2815   0     2815       0     21    0       0      20.529997 1936 \n",
       "4 3786   0     3786       0     12    0      12       9.619998  900 \n",
       "5 2580   0     2580       0     44    0      33       2.750000 4096 \n",
       "6 1205   0        0    1205     23    0      23      19.249998 1681 "
      ]
     },
     "metadata": {},
     "output_type": "display_data"
    }
   ],
   "source": [
    "colnames(sleepdata)\n",
    "head(sleepdata)"
   ]
  },
  {
   "cell_type": "markdown",
   "id": "fd6ad330",
   "metadata": {},
   "source": [
    "A couple of warm-up quiz questions for you:\n",
    "* How many observations are there in the dataset?\n",
    "* How many variables are there in the dataset?\n",
    "* What proportion of the observations is a union member?\n",
    "* What is the average number of minutes of work (per week) in the data?"
   ]
  },
  {
   "cell_type": "code",
   "execution_count": null,
   "id": "9a67765e",
   "metadata": {},
   "outputs": [],
   "source": []
  },
  {
   "cell_type": "code",
   "execution_count": 3,
   "id": "fecd1d2b",
   "metadata": {},
   "outputs": [
    {
     "data": {
      "text/html": [
       "<style>\n",
       ".list-inline {list-style: none; margin:0; padding: 0}\n",
       ".list-inline>li {display: inline-block}\n",
       ".list-inline>li:not(:last-child)::after {content: \"\\00b7\"; padding: 0 .5ex}\n",
       "</style>\n",
       "<ol class=list-inline><li>706</li><li>34</li></ol>\n"
      ],
      "text/latex": [
       "\\begin{enumerate*}\n",
       "\\item 706\n",
       "\\item 34\n",
       "\\end{enumerate*}\n"
      ],
      "text/markdown": [
       "1. 706\n",
       "2. 34\n",
       "\n",
       "\n"
      ],
      "text/plain": [
       "[1] 706  34"
      ]
     },
     "metadata": {},
     "output_type": "display_data"
    },
    {
     "data": {
      "text/html": [
       "0.218130311614731"
      ],
      "text/latex": [
       "0.218130311614731"
      ],
      "text/markdown": [
       "0.218130311614731"
      ],
      "text/plain": [
       "[1] 0.2181303"
      ]
     },
     "metadata": {},
     "output_type": "display_data"
    },
    {
     "data": {
      "text/html": [
       "2122.92067988669"
      ],
      "text/latex": [
       "2122.92067988669"
      ],
      "text/markdown": [
       "2122.92067988669"
      ],
      "text/plain": [
       "[1] 2122.921"
      ]
     },
     "metadata": {},
     "output_type": "display_data"
    },
    {
     "name": "stdout",
     "output_type": "stream",
     "text": [
      "[1] 0.22\n",
      "[1] 2123\n"
     ]
    }
   ],
   "source": [
    "dim(sleepdata)\n",
    "\n",
    "# Union\n",
    "mean(sleepdata$union)\n",
    "\n",
    "mean(sleepdata$totwrk)\n",
    "\n",
    "# Let us format these in a nicer way\n",
    "print(round(mean(sleepdata$union),2))\n",
    "print(round(mean(sleepdata$totwrk),0))"
   ]
  },
  {
   "cell_type": "markdown",
   "id": "c111cded",
   "metadata": {},
   "source": [
    "Let us summarize the sleep data, in hours of sleep per night. What are mean and standard deviation? How does the data look like? Is there anything you notice?"
   ]
  },
  {
   "cell_type": "code",
   "execution_count": 4,
   "id": "3662a23c",
   "metadata": {},
   "outputs": [
    {
     "data": {
      "text/html": [
       "7.77703696209362"
      ],
      "text/latex": [
       "7.77703696209362"
      ],
      "text/markdown": [
       "7.77703696209362"
      ],
      "text/plain": [
       "[1] 7.777037"
      ]
     },
     "metadata": {},
     "output_type": "display_data"
    },
    {
     "data": {
      "text/plain": [
       "   Min. 1st Qu.  Median    Mean 3rd Qu.    Max. \n",
       "  1.798   7.179   7.787   7.777   8.410  11.179 "
      ]
     },
     "metadata": {},
     "output_type": "display_data"
    },
    {
     "data": {
      "image/png": "[encoded data removed]",
      "text/plain": [
       "Plot with title “Histogram of sleepdata$sleephours”"
      ]
     },
     "metadata": {
      "image/png": {
       "height": 420,
       "width": 420
      }
     },
     "output_type": "display_data"
    }
   ],
   "source": [
    "sleepdata$sleephours = sleepdata$sleep/60/7\n",
    "mean(sleepdata$sleephours)\n",
    "summary(sleepdata$sleephours)\n",
    "hist(sleepdata$sleephours)\n"
   ]
  },
  {
   "cell_type": "markdown",
   "id": "0fec32e0",
   "metadata": {},
   "source": [
    "## Digging more into the data: Do union members sleep more?\n",
    "\n",
    "We start with a basic linear model of sleep ($S_i$), which we regress on union membership ($U_i$):\n",
    "\n",
    "$$\n",
    "S_i = \\alpha + \\beta_u \\cdot \\text{U}_i + \\epsilon_i\n",
    "$$\n",
    "\n",
    "How would you run this in ```R```?"
   ]
  },
  {
   "cell_type": "code",
   "execution_count": 5,
   "id": "92e742a6",
   "metadata": {},
   "outputs": [
    {
     "name": "stdout",
     "output_type": "stream",
     "text": [
      "\n",
      "Call:\n",
      "lm(formula = sleephours ~ union, data = sleepdata)\n",
      "\n",
      "Residuals:\n",
      "    Min      1Q  Median      3Q     Max \n",
      "-5.9739 -0.5929  0.0142  0.6329  3.3816 \n",
      "\n",
      "Coefficients:\n",
      "            Estimate Std. Error t value Pr(>|t|)    \n",
      "(Intercept)  7.77147    0.04507 172.444   <2e-16 ***\n",
      "union        0.02551    0.09649   0.264    0.792    \n",
      "---\n",
      "Signif. codes:  0 ‘***’ 0.001 ‘**’ 0.01 ‘*’ 0.05 ‘.’ 0.1 ‘ ’ 1\n",
      "\n",
      "Residual standard error: 1.059 on 704 degrees of freedom\n",
      "Multiple R-squared:  9.93e-05,\tAdjusted R-squared:  -0.001321 \n",
      "F-statistic: 0.06991 on 1 and 704 DF,  p-value: 0.7915\n",
      "\n"
     ]
    }
   ],
   "source": [
    "union_regression = summary(lm(sleephours ~ union , data=sleepdata))\n",
    "print(union_regression)\n"
   ]
  },
  {
   "cell_type": "markdown",
   "id": "4d27733a",
   "metadata": {},
   "source": [
    "Let us interpret this regression output. \n",
    "* **What is the meaning of the intercept?**\n",
    "Answer: The intercept is always the 'conditional mean': The expected value of the outcome variable, conditional on all other variables being zero. Here, it is simply the average hours of nightly sleep for non-union-members.\n",
    "* **What is the meaning of the coefficient on \"union\"?**\n",
    "This shows the difference in average hours of nightly sleep between union- and non-union-members.\n",
    "* **What do the other parts of the output mean?**\n",
    "Interpretation of standard error (measure of precision of estimate: The smaller the standard error, the more precise the estimate), and t-statistic (coefficient divided by standard error). A t-statistic above 2 is equivalent to a p-value below 0.05. \n",
    "In this case, we fail to reject the null hypothesis.\n",
    "\n",
    "\n",
    "\n",
    "Below we see that just taking means exactly corresponds to the regression output - but we can do so much more with regressions."
   ]
  },
  {
   "cell_type": "code",
   "execution_count": 6,
   "id": "5b40b08b",
   "metadata": {},
   "outputs": [
    {
     "data": {
      "text/html": [
       "7.77147170462388"
      ],
      "text/latex": [
       "7.77147170462388"
      ],
      "text/markdown": [
       "7.77147170462388"
      ],
      "text/plain": [
       "[1] 7.771472"
      ]
     },
     "metadata": {},
     "output_type": "display_data"
    },
    {
     "data": {
      "text/html": [
       "7.79698515769944"
      ],
      "text/latex": [
       "7.79698515769944"
      ],
      "text/markdown": [
       "7.79698515769944"
      ],
      "text/plain": [
       "[1] 7.796985"
      ]
     },
     "metadata": {},
     "output_type": "display_data"
    },
    {
     "data": {
      "text/html": [
       "0.0255134530755647"
      ],
      "text/latex": [
       "0.0255134530755647"
      ],
      "text/markdown": [
       "0.0255134530755647"
      ],
      "text/plain": [
       "[1] 0.02551345"
      ]
     },
     "metadata": {},
     "output_type": "display_data"
    }
   ],
   "source": [
    "mean(sleepdata$sleephours[sleepdata$union==0])\n",
    "mean(sleepdata$sleephours[sleepdata$union==1])\n",
    "\n",
    "mean(sleepdata$sleephours[sleepdata$union==1]) - mean(sleepdata$sleephours[sleepdata$union==0])"
   ]
  },
  {
   "cell_type": "code",
   "execution_count": null,
   "id": "72ed6225",
   "metadata": {},
   "outputs": [],
   "source": []
  },
  {
   "cell_type": "code",
   "execution_count": null,
   "id": "a7ff017e",
   "metadata": {},
   "outputs": [],
   "source": []
  }
 ],
 "metadata": {
  "kernelspec": {
   "display_name": "R",
   "language": "R",
   "name": "ir"
  },
  "language_info": {
   "codemirror_mode": "r",
   "file_extension": ".r",
   "mimetype": "text/x-r-source",
   "name": "R",
   "pygments_lexer": "r",
   "version": "4.3.1"
  }
 },
 "nbformat": 4,
 "nbformat_minor": 5
}
